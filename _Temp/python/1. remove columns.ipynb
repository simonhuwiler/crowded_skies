{
 "cells": [
  {
   "cell_type": "code",
   "execution_count": 102,
   "metadata": {},
   "outputs": [
    {
     "data": {
      "text/plain": [
       "333720"
      ]
     },
     "execution_count": 102,
     "metadata": {},
     "output_type": "execute_result"
    }
   ],
   "source": [
    "import pandas as pd\n",
    "import numpy\n",
    "df = pd.read_csv(\"20180521_0.csv\")\n",
    "df['icao24'].count()"
   ]
  },
  {
   "cell_type": "code",
   "execution_count": 103,
   "metadata": {},
   "outputs": [],
   "source": [
    "df = df[df['onground'] == False]\n",
    "df = df.drop(columns=['ground_speed', 'track', 'vertical_rate', 'callsign', 'baro_altitude', 'onground', 'alert', 'spi', 'squawk', 'last_position', 'hour', 'geometry'])"
   ]
  },
  {
   "cell_type": "code",
   "execution_count": 104,
   "metadata": {},
   "outputs": [],
   "source": [
    "df['altitude'] = df['altitude'].apply(lambda x: x / 3.2808)\n",
    "df['altitude'] = df['altitude'].round(0)"
   ]
  },
  {
   "cell_type": "code",
   "execution_count": 105,
   "metadata": {},
   "outputs": [
    {
     "data": {
      "text/plain": [
       "189201"
      ]
     },
     "execution_count": 105,
     "metadata": {},
     "output_type": "execute_result"
    }
   ],
   "source": [
    "df_freq = df\n",
    "#df_freq = df[df['icao24'] == '3964e0']\n",
    "df_freq['icao24'].count()"
   ]
  },
  {
   "cell_type": "code",
   "execution_count": 106,
   "metadata": {},
   "outputs": [],
   "source": [
    "#Convert timestamp to datetime\n",
    "df_freq['timestamp'] = pd.to_datetime(df_freq['timestamp'])\n",
    "#df_freq['timestamp'] = df_freq['timestamp'].dt.time"
   ]
  },
  {
   "cell_type": "code",
   "execution_count": 107,
   "metadata": {},
   "outputs": [],
   "source": [
    "#only take first of each 10 min\n",
    "agg_10m = df_freq.groupby([ pd.Grouper(key='timestamp', freq='1Min'), 'icao24'])\n",
    "df_10 = agg_10m.first()\n",
    "df_10 = df_10.reset_index()"
   ]
  },
  {
   "cell_type": "code",
   "execution_count": 108,
   "metadata": {},
   "outputs": [],
   "source": [
    "#remove date\n",
    "df_10['timestamp'] = df_10['timestamp'].dt.time\n"
   ]
  },
  {
   "cell_type": "code",
   "execution_count": 109,
   "metadata": {},
   "outputs": [],
   "source": [
    "#Save to file\n",
    "df_10.to_csv(\"data.csv\", index=False)"
   ]
  },
  {
   "cell_type": "code",
   "execution_count": null,
   "metadata": {},
   "outputs": [],
   "source": []
  }
 ],
 "metadata": {
  "kernelspec": {
   "display_name": "Python 3",
   "language": "python",
   "name": "python3"
  },
  "language_info": {
   "codemirror_mode": {
    "name": "ipython",
    "version": 3
   },
   "file_extension": ".py",
   "mimetype": "text/x-python",
   "name": "python",
   "nbconvert_exporter": "python",
   "pygments_lexer": "ipython3",
   "version": "3.6.5"
  }
 },
 "nbformat": 4,
 "nbformat_minor": 2
}
