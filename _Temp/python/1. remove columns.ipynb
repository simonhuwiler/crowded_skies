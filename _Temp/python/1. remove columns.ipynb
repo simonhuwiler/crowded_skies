{
 "cells": [
  {
   "cell_type": "code",
   "execution_count": 9,
   "metadata": {},
   "outputs": [
    {
     "data": {
      "text/html": [
       "<div>\n",
       "<style scoped>\n",
       "    .dataframe tbody tr th:only-of-type {\n",
       "        vertical-align: middle;\n",
       "    }\n",
       "\n",
       "    .dataframe tbody tr th {\n",
       "        vertical-align: top;\n",
       "    }\n",
       "\n",
       "    .dataframe thead th {\n",
       "        text-align: right;\n",
       "    }\n",
       "</style>\n",
       "<table border=\"1\" class=\"dataframe\">\n",
       "  <thead>\n",
       "    <tr style=\"text-align: right;\">\n",
       "      <th></th>\n",
       "      <th>timestamp</th>\n",
       "      <th>icao24</th>\n",
       "      <th>latitude</th>\n",
       "      <th>longitude</th>\n",
       "      <th>ground_speed</th>\n",
       "      <th>track</th>\n",
       "      <th>vertical_rate</th>\n",
       "      <th>callsign</th>\n",
       "      <th>onground</th>\n",
       "      <th>alert</th>\n",
       "      <th>spi</th>\n",
       "      <th>squawk</th>\n",
       "      <th>baro_altitude</th>\n",
       "      <th>altitude</th>\n",
       "      <th>last_position</th>\n",
       "      <th>hour</th>\n",
       "      <th>geometry</th>\n",
       "    </tr>\n",
       "  </thead>\n",
       "  <tbody>\n",
       "    <tr>\n",
       "      <th>0</th>\n",
       "      <td>2018-05-21 00:00:00</td>\n",
       "      <td>3cc23d</td>\n",
       "      <td>47.203038</td>\n",
       "      <td>8.009878</td>\n",
       "      <td>441.480082</td>\n",
       "      <td>20.692753</td>\n",
       "      <td>-64.0</td>\n",
       "      <td>DCAWB</td>\n",
       "      <td>False</td>\n",
       "      <td>False</td>\n",
       "      <td>False</td>\n",
       "      <td>1051.0</td>\n",
       "      <td>40000.0</td>\n",
       "      <td>40500.0</td>\n",
       "      <td>2018-05-20 23:59:58.988000</td>\n",
       "      <td>1526853600</td>\n",
       "      <td>POINT (8.009878305288463 47.20303810248939)</td>\n",
       "    </tr>\n",
       "    <tr>\n",
       "      <th>1</th>\n",
       "      <td>2018-05-21 00:00:01</td>\n",
       "      <td>4ca640</td>\n",
       "      <td>47.125342</td>\n",
       "      <td>8.046992</td>\n",
       "      <td>450.404984</td>\n",
       "      <td>322.850241</td>\n",
       "      <td>0.0</td>\n",
       "      <td>EIN417</td>\n",
       "      <td>False</td>\n",
       "      <td>False</td>\n",
       "      <td>False</td>\n",
       "      <td>7532.0</td>\n",
       "      <td>35950.0</td>\n",
       "      <td>36325.0</td>\n",
       "      <td>2018-05-20 23:59:58.535000</td>\n",
       "      <td>1526853600</td>\n",
       "      <td>POINT (8.04699237530048 47.1253424175715)</td>\n",
       "    </tr>\n",
       "    <tr>\n",
       "      <th>2</th>\n",
       "      <td>2018-05-21 00:00:01</td>\n",
       "      <td>3c09f4</td>\n",
       "      <td>47.095230</td>\n",
       "      <td>7.787041</td>\n",
       "      <td>465.816085</td>\n",
       "      <td>35.123016</td>\n",
       "      <td>0.0</td>\n",
       "      <td>GMI54HM</td>\n",
       "      <td>False</td>\n",
       "      <td>False</td>\n",
       "      <td>False</td>\n",
       "      <td>2315.0</td>\n",
       "      <td>38050.0</td>\n",
       "      <td>38325.0</td>\n",
       "      <td>2018-05-21 00:00:00.997000</td>\n",
       "      <td>1526853600</td>\n",
       "      <td>POINT (7.787040710449219 47.09523010253906)</td>\n",
       "    </tr>\n",
       "    <tr>\n",
       "      <th>3</th>\n",
       "      <td>2018-05-21 00:00:01</td>\n",
       "      <td>461f67</td>\n",
       "      <td>46.146149</td>\n",
       "      <td>7.396746</td>\n",
       "      <td>460.678449</td>\n",
       "      <td>25.730706</td>\n",
       "      <td>0.0</td>\n",
       "      <td>FIN8T</td>\n",
       "      <td>False</td>\n",
       "      <td>False</td>\n",
       "      <td>False</td>\n",
       "      <td>5572.0</td>\n",
       "      <td>34000.0</td>\n",
       "      <td>33875.0</td>\n",
       "      <td>2018-05-20 23:59:58.944000</td>\n",
       "      <td>1526853600</td>\n",
       "      <td>POINT (7.396746379573171 46.14614868164062)</td>\n",
       "    </tr>\n",
       "    <tr>\n",
       "      <th>4</th>\n",
       "      <td>2018-05-21 00:00:01</td>\n",
       "      <td>4ca94c</td>\n",
       "      <td>46.696243</td>\n",
       "      <td>9.539080</td>\n",
       "      <td>429.535425</td>\n",
       "      <td>305.429134</td>\n",
       "      <td>0.0</td>\n",
       "      <td>IBK9563</td>\n",
       "      <td>False</td>\n",
       "      <td>False</td>\n",
       "      <td>False</td>\n",
       "      <td>2773.0</td>\n",
       "      <td>34000.0</td>\n",
       "      <td>34525.0</td>\n",
       "      <td>2018-05-21 00:00:00.538000</td>\n",
       "      <td>1526853600</td>\n",
       "      <td>POINT (9.539080363948173 46.69624328613281)</td>\n",
       "    </tr>\n",
       "  </tbody>\n",
       "</table>\n",
       "</div>"
      ],
      "text/plain": [
       "             timestamp  icao24   latitude  longitude  ground_speed  \\\n",
       "0  2018-05-21 00:00:00  3cc23d  47.203038   8.009878    441.480082   \n",
       "1  2018-05-21 00:00:01  4ca640  47.125342   8.046992    450.404984   \n",
       "2  2018-05-21 00:00:01  3c09f4  47.095230   7.787041    465.816085   \n",
       "3  2018-05-21 00:00:01  461f67  46.146149   7.396746    460.678449   \n",
       "4  2018-05-21 00:00:01  4ca94c  46.696243   9.539080    429.535425   \n",
       "\n",
       "        track  vertical_rate callsign  onground  alert    spi  squawk  \\\n",
       "0   20.692753          -64.0    DCAWB     False  False  False  1051.0   \n",
       "1  322.850241            0.0   EIN417     False  False  False  7532.0   \n",
       "2   35.123016            0.0  GMI54HM     False  False  False  2315.0   \n",
       "3   25.730706            0.0    FIN8T     False  False  False  5572.0   \n",
       "4  305.429134            0.0  IBK9563     False  False  False  2773.0   \n",
       "\n",
       "   baro_altitude  altitude               last_position        hour  \\\n",
       "0        40000.0   40500.0  2018-05-20 23:59:58.988000  1526853600   \n",
       "1        35950.0   36325.0  2018-05-20 23:59:58.535000  1526853600   \n",
       "2        38050.0   38325.0  2018-05-21 00:00:00.997000  1526853600   \n",
       "3        34000.0   33875.0  2018-05-20 23:59:58.944000  1526853600   \n",
       "4        34000.0   34525.0  2018-05-21 00:00:00.538000  1526853600   \n",
       "\n",
       "                                      geometry  \n",
       "0  POINT (8.009878305288463 47.20303810248939)  \n",
       "1    POINT (8.04699237530048 47.1253424175715)  \n",
       "2  POINT (7.787040710449219 47.09523010253906)  \n",
       "3  POINT (7.396746379573171 46.14614868164062)  \n",
       "4  POINT (9.539080363948173 46.69624328613281)  "
      ]
     },
     "execution_count": 9,
     "metadata": {},
     "output_type": "execute_result"
    }
   ],
   "source": [
    "import pandas as pd\n",
    "import numpy\n",
    "list_ = [\"data/20180521_0.csv\"\n",
    "         , \"data/20180521_1.csv\"\n",
    "         , \"data/20180521_2.csv\"\n",
    "         , \"data/20180521_3.csv\"\n",
    "         , \"data/20180521_4.csv\"\n",
    "         , \"data/20180521_5.csv\"\n",
    "         , \"data/20180521_6.csv\"\n",
    "         , \"data/20180521_7.csv\"\n",
    "         , \"data/20180521_8.csv\"\n",
    "         , \"data/20180521_9.csv\"\n",
    "        ]\n",
    "df_from_each_file = (pd.read_csv(f) for f in list_)\n",
    "concatenated_df   = pd.concat(df_from_each_file, ignore_index=True)\n",
    "concatenated_df.head()"
   ]
  },
  {
   "cell_type": "code",
   "execution_count": 10,
   "metadata": {},
   "outputs": [],
   "source": [
    "df = concatenated_df\n",
    "df = df[df['onground'] == False]\n",
    "df = df.drop(columns=['ground_speed', 'track', 'vertical_rate', 'callsign', 'baro_altitude', 'onground', 'alert', 'spi', 'squawk', 'last_position', 'hour', 'geometry'])"
   ]
  },
  {
   "cell_type": "code",
   "execution_count": 11,
   "metadata": {},
   "outputs": [],
   "source": [
    "df['altitude'] = df['altitude'].apply(lambda x: x / 3.2808)\n",
    "df['altitude'] = df['altitude'].round(0)\n",
    "\n",
    "#Round Floats\n",
    "df['latitude'] = df['latitude'].round(5)\n",
    "df['longitude'] = df['longitude'].round(5)"
   ]
  },
  {
   "cell_type": "code",
   "execution_count": 12,
   "metadata": {},
   "outputs": [
    {
     "data": {
      "text/plain": [
       "2294830"
      ]
     },
     "execution_count": 12,
     "metadata": {},
     "output_type": "execute_result"
    }
   ],
   "source": [
    "df_freq = df\n",
    "#df_freq = df[df['icao24'] == '3964e0']\n",
    "df_freq['icao24'].count()"
   ]
  },
  {
   "cell_type": "code",
   "execution_count": 13,
   "metadata": {},
   "outputs": [],
   "source": [
    "#Convert timestamp to datetime\n",
    "df_freq['timestamp'] = pd.to_datetime(df_freq['timestamp'])\n",
    "#df_freq['timestamp'] = df_freq['timestamp'].dt.time"
   ]
  },
  {
   "cell_type": "code",
   "execution_count": 14,
   "metadata": {},
   "outputs": [],
   "source": [
    "#only take first of each 10 min\n",
    "agg_10m = df_freq.groupby([ pd.Grouper(key='timestamp', freq='1Min'), 'icao24'])\n",
    "df_10 = agg_10m.first()\n",
    "df_10 = df_10.reset_index()"
   ]
  },
  {
   "cell_type": "code",
   "execution_count": 15,
   "metadata": {},
   "outputs": [],
   "source": [
    "#remove date\n",
    "df_10['timestamp'] = df_10['timestamp'].dt.time\n"
   ]
  },
  {
   "cell_type": "code",
   "execution_count": null,
   "metadata": {},
   "outputs": [],
   "source": [
    "\n"
   ]
  },
  {
   "cell_type": "code",
   "execution_count": 16,
   "metadata": {},
   "outputs": [],
   "source": [
    "#Save to file\n",
    "df_10.to_csv(\"data.csv\", index=False)"
   ]
  },
  {
   "cell_type": "code",
   "execution_count": null,
   "metadata": {},
   "outputs": [],
   "source": []
  }
 ],
 "metadata": {
  "kernelspec": {
   "display_name": "Python 3",
   "language": "python",
   "name": "python3"
  },
  "language_info": {
   "codemirror_mode": {
    "name": "ipython",
    "version": 3
   },
   "file_extension": ".py",
   "mimetype": "text/x-python",
   "name": "python",
   "nbconvert_exporter": "python",
   "pygments_lexer": "ipython3",
   "version": "3.6.5"
  }
 },
 "nbformat": 4,
 "nbformat_minor": 2
}
