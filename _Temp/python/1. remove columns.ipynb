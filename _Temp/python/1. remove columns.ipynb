{
 "cells": [
  {
   "cell_type": "code",
   "execution_count": 162,
   "metadata": {},
   "outputs": [
    {
     "data": {
      "text/plain": [
       "333720"
      ]
     },
     "execution_count": 162,
     "metadata": {},
     "output_type": "execute_result"
    }
   ],
   "source": [
    "import pandas as pd\n",
    "import numpy\n",
    "df = pd.read_csv(\"20180521_0.csv\")\n",
    "df['icao24'].count()"
   ]
  },
  {
   "cell_type": "code",
   "execution_count": 163,
   "metadata": {},
   "outputs": [],
   "source": [
    "df = df[df['baro_altitude'] > 10000]\n",
    "df = df.drop(columns=['ground_speed', 'track', 'vertical_rate', 'callsign', 'altitude', 'onground', 'alert', 'spi', 'squawk', 'baro_altitude', 'last_position', 'hour', 'geometry'])"
   ]
  },
  {
   "cell_type": "code",
   "execution_count": 164,
   "metadata": {},
   "outputs": [],
   "source": [
    "#df.to_csv(\"data.csv\", index=False)\n",
    "#gp = df.groupby(['timestamp']).mean()"
   ]
  },
  {
   "cell_type": "code",
   "execution_count": 165,
   "metadata": {},
   "outputs": [
    {
     "data": {
      "text/plain": [
       "155920"
      ]
     },
     "execution_count": 165,
     "metadata": {},
     "output_type": "execute_result"
    }
   ],
   "source": [
    "df_freq = df\n",
    "#df_freq = df[df['icao24'] == '3964e0']\n",
    "df_freq['icao24'].count()"
   ]
  },
  {
   "cell_type": "code",
   "execution_count": 166,
   "metadata": {},
   "outputs": [],
   "source": [
    "#Convert timestamp to datetime\n",
    "df_freq['timestamp'] = pd.to_datetime(df_freq['timestamp'])\n",
    "#df_freq['timestamp'] = df_freq['timestamp'].dt.time"
   ]
  },
  {
   "cell_type": "code",
   "execution_count": 167,
   "metadata": {},
   "outputs": [],
   "source": [
    "#only take first of each 10 min\n",
    "agg_10m = df_freq.groupby([ pd.Grouper(key='timestamp', freq='10Min'), 'icao24'])\n",
    "df_10 = agg_10m.first()\n",
    "df_10 = df_10.reset_index()"
   ]
  },
  {
   "cell_type": "code",
   "execution_count": 172,
   "metadata": {},
   "outputs": [],
   "source": [
    "#remove date\n",
    "df_10['timestamp'] = df_10['timestamp'].dt.time\n"
   ]
  },
  {
   "cell_type": "code",
   "execution_count": 174,
   "metadata": {},
   "outputs": [],
   "source": [
    "#Save to file\n",
    "df_10.to_csv(\"data.csv\", index=False)"
   ]
  },
  {
   "cell_type": "code",
   "execution_count": null,
   "metadata": {},
   "outputs": [],
   "source": []
  }
 ],
 "metadata": {
  "kernelspec": {
   "display_name": "Python 3",
   "language": "python",
   "name": "python3"
  },
  "language_info": {
   "codemirror_mode": {
    "name": "ipython",
    "version": 3
   },
   "file_extension": ".py",
   "mimetype": "text/x-python",
   "name": "python",
   "nbconvert_exporter": "python",
   "pygments_lexer": "ipython3",
   "version": "3.6.5"
  }
 },
 "nbformat": 4,
 "nbformat_minor": 2
}
